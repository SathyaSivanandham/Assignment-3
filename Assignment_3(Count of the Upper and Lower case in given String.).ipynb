{
 "cells": [
  {
   "cell_type": "markdown",
   "id": "23d930f8",
   "metadata": {},
   "source": [
    "# Write a Python function that accepts a string and calculate the number of upper case letters and lower case letters."
   ]
  },
  {
   "cell_type": "code",
   "execution_count": 12,
   "id": "573e898c",
   "metadata": {},
   "outputs": [
    {
     "name": "stdout",
     "output_type": "stream",
     "text": [
      "Enter string : The quick Brown Fox\n",
      "The number of Upper case characters is: 3\n",
      "The number of Lower case characters is: 13\n"
     ]
    }
   ],
   "source": [
    "str= input(\"Enter string : \")\n",
    "count1=0\n",
    "count2=0\n",
    "for i in str:\n",
    "      if(i.isupper()):\n",
    "            count1=count1+1\n",
    "      elif(i.islower()):\n",
    "            count2=count2+1\n",
    "print(\"The number of Upper case characters is: \", end=\"\")\n",
    "print(count1)\n",
    "print(\"The number of Lower case characters is: \", end=\"\")\n",
    "print(count2)"
   ]
  },
  {
   "cell_type": "code",
   "execution_count": null,
   "id": "ecad7622",
   "metadata": {},
   "outputs": [],
   "source": []
  }
 ],
 "metadata": {
  "kernelspec": {
   "display_name": "Python 3 (ipykernel)",
   "language": "python",
   "name": "python3"
  },
  "language_info": {
   "codemirror_mode": {
    "name": "ipython",
    "version": 3
   },
   "file_extension": ".py",
   "mimetype": "text/x-python",
   "name": "python",
   "nbconvert_exporter": "python",
   "pygments_lexer": "ipython3",
   "version": "3.11.0"
  }
 },
 "nbformat": 4,
 "nbformat_minor": 5
}
