{
 "cells": [
  {
   "cell_type": "markdown",
   "id": "a2b7a374",
   "metadata": {},
   "source": [
    "# Write a Python function to sum all the numbers in a list."
   ]
  },
  {
   "cell_type": "code",
   "execution_count": 18,
   "id": "904d790e",
   "metadata": {},
   "outputs": [
    {
     "name": "stdout",
     "output_type": "stream",
     "text": [
      "Summation is : 20\n"
     ]
    }
   ],
   "source": [
    "def sum(list):\n",
    "    total = 0\n",
    "    for x in list:\n",
    "        total += x\n",
    "    return total\n",
    "print(\"Summation is : \", end = \"\")\n",
    "sum([8, 2, 3, 0, 7])\n",
    "print(sum([8, 2, 3, 0, 7]))"
   ]
  },
  {
   "cell_type": "code",
   "execution_count": null,
   "id": "51b01ebc",
   "metadata": {},
   "outputs": [],
   "source": []
  }
 ],
 "metadata": {
  "kernelspec": {
   "display_name": "Python 3 (ipykernel)",
   "language": "python",
   "name": "python3"
  },
  "language_info": {
   "codemirror_mode": {
    "name": "ipython",
    "version": 3
   },
   "file_extension": ".py",
   "mimetype": "text/x-python",
   "name": "python",
   "nbconvert_exporter": "python",
   "pygments_lexer": "ipython3",
   "version": "3.11.0"
  }
 },
 "nbformat": 4,
 "nbformat_minor": 5
}
