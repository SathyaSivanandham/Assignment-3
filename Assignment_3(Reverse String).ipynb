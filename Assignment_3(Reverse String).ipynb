{
 "cells": [
  {
   "cell_type": "markdown",
   "id": "e83dcc53",
   "metadata": {},
   "source": [
    "# Write a Python program to reverse a string."
   ]
  },
  {
   "cell_type": "code",
   "execution_count": 5,
   "id": "9e8ad991",
   "metadata": {},
   "outputs": [
    {
     "name": "stdout",
     "output_type": "stream",
     "text": [
      "Enter the string: \"1234abcd\"\n",
      "The reverse string is \"dcba4321\"\n"
     ]
    }
   ],
   "source": [
    "def reverse(string): \n",
    "    reverse = ''.join(reversed(string))\n",
    "    return reverse\n",
    "string = input('Enter the string: ')\n",
    "print('The reverse string is', reverse(string))"
   ]
  },
  {
   "cell_type": "code",
   "execution_count": null,
   "id": "83f0f599",
   "metadata": {},
   "outputs": [],
   "source": []
  }
 ],
 "metadata": {
  "kernelspec": {
   "display_name": "Python 3 (ipykernel)",
   "language": "python",
   "name": "python3"
  },
  "language_info": {
   "codemirror_mode": {
    "name": "ipython",
    "version": 3
   },
   "file_extension": ".py",
   "mimetype": "text/x-python",
   "name": "python",
   "nbconvert_exporter": "python",
   "pygments_lexer": "ipython3",
   "version": "3.11.0"
  }
 },
 "nbformat": 4,
 "nbformat_minor": 5
}
